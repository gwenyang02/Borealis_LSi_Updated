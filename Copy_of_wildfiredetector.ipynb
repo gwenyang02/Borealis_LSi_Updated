{
  "nbformat": 4,
  "nbformat_minor": 0,
  "metadata": {
    "colab": {
      "provenance": []
    },
    "kernelspec": {
      "name": "python3",
      "display_name": "Python 3"
    },
    "language_info": {
      "name": "python"
    },
    "accelerator": "GPU",
    "gpuClass": "standard"
  },
  "cells": [
    {
      "cell_type": "code",
      "execution_count": null,
      "metadata": {
        "colab": {
          "base_uri": "https://localhost:8080/"
        },
        "id": "1g9SjUvsyttT",
        "outputId": "035ba0f1-c479-4874-9cf2-c0c978da976e"
      },
      "outputs": [
        {
          "output_type": "stream",
          "name": "stdout",
          "text": [
            "Mounted at /content/gdrive/\n"
          ]
        }
      ],
      "source": [
        "from google.colab import drive\n",
        "drive.mount('/content/gdrive/')"
      ]
    },
    {
      "cell_type": "markdown",
      "source": [
        "## **Change into your folder**"
      ],
      "metadata": {
        "id": "NV7yPbflAznZ"
      }
    },
    {
      "cell_type": "code",
      "source": [
        "import os\n",
        "os.chdir(\"/content/gdrive/MyDrive/fire_detector/\") ###### change to your dir here"
      ],
      "metadata": {
        "id": "I8Vu_1nw4Iw_"
      },
      "execution_count": null,
      "outputs": []
    },
    {
      "cell_type": "code",
      "source": [
        "import os\n",
        "os.chdir(\"/content/gdrive/MyDrive/kaggle\") #zoey's"
      ],
      "metadata": {
        "id": "e58Yfg0g0C-8"
      },
      "execution_count": null,
      "outputs": []
    },
    {
      "cell_type": "code",
      "source": [
        "ls"
      ],
      "metadata": {
        "id": "KXnUVPt1_TQW",
        "colab": {
          "base_uri": "https://localhost:8080/"
        },
        "outputId": "9c800ddf-7c40-451b-a612-4c38d757adb8"
      },
      "execution_count": null,
      "outputs": [
        {
          "output_type": "stream",
          "name": "stdout",
          "text": [
            "\u001b[0m\u001b[01;34mfire_dataset\u001b[0m/  fire-dataset.zip  kaggle.json  loss_curves.png  model.pt\n"
          ]
        }
      ]
    },
    {
      "cell_type": "code",
      "source": [
        "import torch\n",
        "import torchvision\n",
        "from torchvision.datasets import ImageFolder\n",
        "from torchvision.transforms import ToTensor, Resize, Normalize\n",
        "from torch.utils.data import DataLoader, random_split, Subset, WeightedRandomSampler\n",
        "from torch.optim import Adam\n",
        "import torch.nn as nn\n",
        "import torch.nn.functional as F\n",
        "import torchvision.transforms as transforms\n",
        "import numpy as np\n",
        "from PIL import Image\n",
        "import matplotlib.pyplot as plt\n",
        "import torchvision.transforms.functional as TF\n",
        "import torch.utils.data.dataset as dataset_utils\n",
        "\n",
        "a\n",
        "def is_orange(img):\n",
        "    #img = Image.fromarray(img.astype(np.uint8))\n",
        "    gray = np.array(img.convert('L'))\n",
        "    orange_pixels = np.where(np.logical_and(gray >= 200, gray <= 255))\n",
        "    return len(orange_pixels[0]) / (img.size[0] * img.size[1]) > 0.75\n",
        "\n",
        "# class CustomTransform:\n",
        "#     def __call__(self, img):\n",
        "#         img = img.resize((224, 224))\n",
        "#         if is_orange(img):\n",
        "#             label = torch.tensor(1)\n",
        "#         else:\n",
        "#             label = torch.tensor(0)\n",
        "#         img_tensor = transforms.ToTensor()(Image.fromarray(np.array(img)))\n",
        "#         return img_tensor, label\n",
        "\n",
        "class CustomTransform:\n",
        "    def __call__(self, img):\n",
        "        if is_orange(img):\n",
        "            label = 0\n",
        "        else:\n",
        "            label = 1\n",
        "        return img\n",
        "\n",
        "train_transforms = transforms.Compose([\n",
        "    transforms.Resize((224, 224)),\n",
        "    transforms.RandomHorizontalFlip(),\n",
        "    CustomTransform(), ######\n",
        "    transforms.ToTensor(),\n",
        "\n",
        "    transforms.Normalize(mean=[0.485, 0.456, 0.406],\n",
        "                         std=[0.229, 0.224, 0.225])\n",
        "])\n",
        "\n",
        "val_transforms = transforms.Compose([\n",
        "    transforms.Resize((224, 224)),\n",
        "    CustomTransform(),\n",
        "    transforms.ToTensor(),\n",
        "\n",
        "    transforms.Normalize(mean=[0.485, 0.456, 0.406],\n",
        "                         std=[0.229, 0.224, 0.225])\n",
        "])\n",
        "\n",
        "\n",
        "# Load the dataset using ImageFolder\n",
        "dataset = ImageFolder('fire_dataset')\n",
        "\n",
        "# Split the dataset into training, validation and testing sets\n",
        "dataset_size = len(dataset)\n",
        "test_size = int(0.1 * dataset_size)\n",
        "val_size = int(0.1 * dataset_size)\n",
        "train_size = dataset_size - test_size - val_size\n",
        "\n",
        "train_data, val_data, test_data = random_split(dataset, [train_size, val_size, test_size])\n",
        "\n",
        "# Apply transforms to each dataset\n",
        "train_data.dataset.transform = train_transforms\n",
        "val_data.dataset.transform = val_transforms\n",
        "\n",
        "\n",
        "# Define the data loaders\n",
        "train_loader = DataLoader(train_data, batch_size=32, shuffle=True)\n",
        "val_loader = DataLoader(val_data, batch_size=32)\n",
        "\n",
        "print(\"Number of images in train dataset:\", len(train_loader))\n",
        "print(\"Number of images in val dataset:\", len(val_loader))\n",
        "\n",
        "# Define the ResNet model architecture\n",
        "model = torchvision.models.resnet18(pretrained=True) #double check here\n",
        "num_features = model.fc.in_features\n",
        "hidden_dim = 256\n",
        "num_classes = 2\n",
        "\n",
        "# ############### Add more hidden layers\n",
        "# #add more hidden layers\n",
        "# classifier = nn.Sequential(\n",
        "#     nn.Linear(num_features, hidden_dim),\n",
        "#     nn.ReLU(),\n",
        "#     nn.Linear(hidden_dim, hidden_dim),\n",
        "#     nn.ReLU(),\n",
        "#     nn.Linear(hidden_dim, num_classes)\n",
        "# )\n",
        "\n",
        "# model.fc = classifier\n",
        "# ########################\n",
        "\n",
        "model.fc = nn.Linear(512, 2)\n",
        "device = torch.device(\"cuda\" if torch.cuda.is_available() else \"cpu\")\n",
        "model = model.to(device)\n",
        "\n",
        "\n",
        "# ################### freezing the convolutional layers and training only the fully connected layer #########\n",
        "# # Freeze convo layers and fine-tune the fc layer\n",
        "# for param in model.parameters():\n",
        "#   param.requires_grad = False\n",
        "\n",
        "# for param in model.fc.parameters():\n",
        "#   param.requires_grad = True\n",
        "\n",
        "# criterion = nn.CrossEntropyLoss()\n",
        "# optimizer = Adam(filter(lambda p: p.requires_grad, model.parameters()), lr=0.001)\n",
        "# #######################\n",
        "\n",
        "\n",
        "# # ######### Freeze convo layers and fine tune #########\n",
        "# # freeze convo layers\n",
        "# for param in model.parameters():\n",
        "#   param.requires_grad = False\n",
        "# # fine tune last convo block and fc layer\n",
        "# for param in model.layer4.parameters():\n",
        "#   param.requires_grad = True\n",
        "# for param in model.fc.parameters():\n",
        "#   param.requires_grad = False\n",
        "\n",
        "# criterion = nn.CrossEntropyLoss()\n",
        "# optimizer = Adam(filter(lambda p: p.requires_grad, model.parameters()), lr=0.001)\n",
        "# # ################\n",
        "\n",
        "\n",
        "\n",
        "# Define the loss function and optimizer\n",
        "criterion = nn.CrossEntropyLoss()\n",
        "optimizer = Adam(model.parameters(), lr=0.001) #fine tune the whole model\n",
        "#instead of model.param => model.fc.parameters()\n",
        "\n",
        "# Define the training loop\n",
        "def train(model, train_loader, optimizer, criterion):\n",
        "    model.train()\n",
        "    train_loss = 0\n",
        "    correct = 0\n",
        "    total = 0\n",
        "    for i, (inputs, labels) in enumerate(train_loader):\n",
        "        inputs, labels = inputs.to(device), labels.to(device)\n",
        "        optimizer.zero_grad()\n",
        "        outputs = model(inputs)\n",
        "        loss = criterion(outputs, labels)\n",
        "        loss.backward()\n",
        "        optimizer.step()\n",
        "        train_loss += loss.item()\n",
        "        _, predicted = torch.max(outputs.data, 1)\n",
        "        total += labels.size(0)\n",
        "        correct += (predicted == labels).sum().item()\n",
        "    train_loss /= len(train_loader)\n",
        "    print(\"train_loss: {:.3f}\".format(train_loss))\n",
        "    print(\"total trained: {}\".format(total))\n",
        "    print(\"correct: {}\".format(correct))\n",
        "    return train_loss\n",
        "\n",
        "# Define the validation loop\n",
        "def validate(model, val_loader, criterion):\n",
        "    model.eval()\n",
        "\n",
        "    predictions = []\n",
        "    targets = []\n",
        "    with torch.no_grad():\n",
        "        val_loss = 0\n",
        "        val_acc = 0\n",
        "        for i, (inputs, labels) in enumerate(val_loader):\n",
        "            inputs, labels = inputs.to(device), labels.to(device)\n",
        "            outputs = model(inputs)\n",
        "            loss = criterion(outputs, labels)\n",
        "            val_loss += loss.item()\n",
        "            _, predicted = torch.max(outputs, 1)\n",
        "            predictions += predicted.tolist()\n",
        "            targets += labels.tolist()\n",
        "            val_acc += (predicted == labels).sum().item()\n",
        "\n",
        "        val_loss /= len(val_loader)\n",
        "        val_acc /= len(val_data)\n",
        "\n",
        "    #f1_score calculation\n",
        "    f1_scores = []\n",
        "    thresholds = np.arange(0.1, 1.0, 0.1)\n",
        "    for threshold in thresholds:\n",
        "        tp, fp, fn = 0, 0, 0\n",
        "        for i in range(len(predictions)):\n",
        "            if predictions[i] == 1 and targets[i] == 1:\n",
        "                tp += 1\n",
        "            elif predictions[i] == 1 and targets[i] == 0:\n",
        "                fp += 1\n",
        "            elif predictions[i] == 0 and targets[i] == 1:\n",
        "                fn += 1\n",
        "        precision = tp / (tp + fp + 1e-10)\n",
        "        recall = tp / (tp + fn + 1e-10)\n",
        "        f1 = 2 * precision * recall / (precision + recall + 1e-10)\n",
        "        f1_scores.append(f1)\n",
        "    return val_loss, val_acc, f1_scores, thresholds\n",
        "\n"
      ],
      "metadata": {
        "id": "DFD-e_uXHGzp",
        "colab": {
          "base_uri": "https://localhost:8080/"
        },
        "outputId": "111930d2-050d-4f87-9b67-4024c327aa18"
      },
      "execution_count": null,
      "outputs": [
        {
          "output_type": "stream",
          "name": "stdout",
          "text": [
            "Number of images in train dataset: 26\n",
            "Number of images in val dataset: 4\n"
          ]
        },
        {
          "output_type": "stream",
          "name": "stderr",
          "text": [
            "/usr/local/lib/python3.10/dist-packages/torchvision/models/_utils.py:208: UserWarning: The parameter 'pretrained' is deprecated since 0.13 and may be removed in the future, please use 'weights' instead.\n",
            "  warnings.warn(\n",
            "/usr/local/lib/python3.10/dist-packages/torchvision/models/_utils.py:223: UserWarning: Arguments other than a weight enum or `None` for 'weights' are deprecated since 0.13 and may be removed in the future. The current behavior is equivalent to passing `weights=ResNet18_Weights.IMAGENET1K_V1`. You can also use `weights=ResNet18_Weights.DEFAULT` to get the most up-to-date weights.\n",
            "  warnings.warn(msg)\n"
          ]
        }
      ]
    },
    {
      "cell_type": "code",
      "source": [
        "# Train the model\n",
        "train_losses = []\n",
        "val_losses = []\n",
        "best_val_loss = float('inf')\n",
        "\n",
        "for epoch in range(10):\n",
        "    train_loss = train(model, train_loader, optimizer, criterion)\n",
        "    val_loss, val_acc, f1_scores, thresholds = validate(model, val_loader, criterion)\n",
        "    print(\"Epoch {}: Validation Loss = {:.3f}, Validation Accuracy = {:.3f}\".format(epoch+1, val_loss, val_acc))\n",
        "    train_losses.append(train_loss)\n",
        "    val_losses.append(val_loss)\n",
        "    # for i in range(len(f1_scores)):\n",
        "    #     print(f\"F1 Score (Threshold {thresholds[i]:.1f}): {f1_scores[i]:.3f}\")\n",
        "    if val_loss < best_val_loss:\n",
        "        best_val_loss = val_loss\n",
        "        torch.save(model.state_dict(), \"model.pt\")\n"
      ],
      "metadata": {
        "colab": {
          "base_uri": "https://localhost:8080/"
        },
        "id": "m00xhpirMGaF",
        "outputId": "b8c1463c-70d1-4ee6-c373-d2f734a2c8b1"
      },
      "execution_count": null,
      "outputs": [
        {
          "output_type": "stream",
          "name": "stdout",
          "text": [
            "train_loss: 0.232\n",
            "total trained: 801\n",
            "correct: 748\n",
            "Epoch 1: Validation Loss = 0.066, Validation Accuracy = 0.980\n",
            "train_loss: 0.107\n",
            "total trained: 801\n",
            "correct: 769\n",
            "Epoch 2: Validation Loss = 0.242, Validation Accuracy = 0.949\n",
            "train_loss: 0.044\n",
            "total trained: 801\n",
            "correct: 792\n",
            "Epoch 3: Validation Loss = 0.063, Validation Accuracy = 0.980\n",
            "train_loss: 0.029\n",
            "total trained: 801\n",
            "correct: 792\n",
            "Epoch 4: Validation Loss = 0.031, Validation Accuracy = 0.990\n",
            "train_loss: 0.248\n",
            "total trained: 801\n",
            "correct: 795\n",
            "Epoch 5: Validation Loss = 0.053, Validation Accuracy = 0.990\n",
            "train_loss: 0.187\n",
            "total trained: 801\n",
            "correct: 757\n",
            "Epoch 6: Validation Loss = 0.307, Validation Accuracy = 0.899\n",
            "train_loss: 0.188\n",
            "total trained: 801\n",
            "correct: 757\n",
            "Epoch 7: Validation Loss = 0.481, Validation Accuracy = 0.859\n",
            "train_loss: 0.066\n",
            "total trained: 801\n",
            "correct: 781\n",
            "Epoch 8: Validation Loss = 0.179, Validation Accuracy = 0.970\n",
            "train_loss: 0.045\n",
            "total trained: 801\n",
            "correct: 784\n",
            "Epoch 9: Validation Loss = 0.031, Validation Accuracy = 1.000\n",
            "train_loss: 0.030\n",
            "total trained: 801\n",
            "correct: 793\n",
            "Epoch 10: Validation Loss = 0.066, Validation Accuracy = 0.990\n"
          ]
        }
      ]
    },
    {
      "cell_type": "code",
      "source": [
        "plt.plot(range(0, 9), f1_scores)\n",
        "plt.xlabel('Epoch')\n",
        "plt.ylabel('F1 Score')\n",
        "plt.show()\n",
        "\n"
      ],
      "metadata": {
        "colab": {
          "base_uri": "https://localhost:8080/",
          "height": 449
        },
        "id": "dCxSLUJvVGPq",
        "outputId": "40f056d0-579b-4852-cfdd-831f22c9de97"
      },
      "execution_count": null,
      "outputs": [
        {
          "output_type": "display_data",
          "data": {
            "text/plain": [
              "<Figure size 640x480 with 1 Axes>"
            ],
            "image/png": "[encoded data removed]"
          },
          "metadata": {}
        }
      ]
    },
    {
      "cell_type": "code",
      "source": [
        "#print requires_grad:\n",
        "for name, param in model.named_parameters():\n",
        "    print(name, param.requires_grad)"
      ],
      "metadata": {
        "id": "sTWUQ4cGzlWZ",
        "colab": {
          "base_uri": "https://localhost:8080/"
        },
        "outputId": "9055474a-8f87-4cf6-cb98-9c4e8b1ad8fa"
      },
      "execution_count": null,
      "outputs": [
        {
          "output_type": "stream",
          "name": "stdout",
          "text": [
            "conv1.weight True\n",
            "bn1.weight True\n",
            "bn1.bias True\n",
            "layer1.0.conv1.weight True\n",
            "layer1.0.bn1.weight True\n",
            "layer1.0.bn1.bias True\n",
            "layer1.0.conv2.weight True\n",
            "layer1.0.bn2.weight True\n",
            "layer1.0.bn2.bias True\n",
            "layer1.1.conv1.weight True\n",
            "layer1.1.bn1.weight True\n",
            "layer1.1.bn1.bias True\n",
            "layer1.1.conv2.weight True\n",
            "layer1.1.bn2.weight True\n",
            "layer1.1.bn2.bias True\n",
            "layer2.0.conv1.weight True\n",
            "layer2.0.bn1.weight True\n",
            "layer2.0.bn1.bias True\n",
            "layer2.0.conv2.weight True\n",
            "layer2.0.bn2.weight True\n",
            "layer2.0.bn2.bias True\n",
            "layer2.0.downsample.0.weight True\n",
            "layer2.0.downsample.1.weight True\n",
            "layer2.0.downsample.1.bias True\n",
            "layer2.1.conv1.weight True\n",
            "layer2.1.bn1.weight True\n",
            "layer2.1.bn1.bias True\n",
            "layer2.1.conv2.weight True\n",
            "layer2.1.bn2.weight True\n",
            "layer2.1.bn2.bias True\n",
            "layer3.0.conv1.weight True\n",
            "layer3.0.bn1.weight True\n",
            "layer3.0.bn1.bias True\n",
            "layer3.0.conv2.weight True\n",
            "layer3.0.bn2.weight True\n",
            "layer3.0.bn2.bias True\n",
            "layer3.0.downsample.0.weight True\n",
            "layer3.0.downsample.1.weight True\n",
            "layer3.0.downsample.1.bias True\n",
            "layer3.1.conv1.weight True\n",
            "layer3.1.bn1.weight True\n",
            "layer3.1.bn1.bias True\n",
            "layer3.1.conv2.weight True\n",
            "layer3.1.bn2.weight True\n",
            "layer3.1.bn2.bias True\n",
            "layer4.0.conv1.weight True\n",
            "layer4.0.bn1.weight True\n",
            "layer4.0.bn1.bias True\n",
            "layer4.0.conv2.weight True\n",
            "layer4.0.bn2.weight True\n",
            "layer4.0.bn2.bias True\n",
            "layer4.0.downsample.0.weight True\n",
            "layer4.0.downsample.1.weight True\n",
            "layer4.0.downsample.1.bias True\n",
            "layer4.1.conv1.weight True\n",
            "layer4.1.bn1.weight True\n",
            "layer4.1.bn1.bias True\n",
            "layer4.1.conv2.weight True\n",
            "layer4.1.bn2.weight True\n",
            "layer4.1.bn2.bias True\n",
            "fc.weight True\n",
            "fc.bias True\n"
          ]
        }
      ]
    },
    {
      "cell_type": "code",
      "source": [
        "# Plot the loss curves\n",
        "epochs = range(1, len(train_losses)+1)\n",
        "plt.plot(epochs, train_losses, label='Training Loss')\n",
        "plt.plot(epochs, val_losses, label='Validation Loss')\n",
        "plt.xlabel('Epoch')\n",
        "plt.ylabel('Loss')\n",
        "plt.legend()\n",
        "plt.savefig('loss_curves.png')\n",
        "\n",
        "################### fine tune all #########"
      ],
      "metadata": {
        "id": "AQ9UKxe4zn9H",
        "colab": {
          "base_uri": "https://localhost:8080/",
          "height": 449
        },
        "outputId": "88b40a9b-7dec-4c3d-f1d2-7d2aa046e146"
      },
      "execution_count": null,
      "outputs": [
        {
          "output_type": "display_data",
          "data": {
            "text/plain": [
              "<Figure size 640x480 with 1 Axes>"
            ],
            "image/png": "[encoded data removed]"
          },
          "metadata": {}
        }
      ]
    },
    {
      "cell_type": "code",
      "source": [
        "# Load the test data\n",
        "test_data.dataset.transform = val_transforms\n",
        "test_loader = DataLoader(test_data, batch_size=32)\n",
        "\n",
        "\n",
        "# Evaluate the model on the test data\n",
        "test_loss = 0\n",
        "test_acc = 0\n",
        "model.eval()\n",
        "\n",
        "\n",
        "pos = 0\n",
        "neg = 0\n",
        "true_pos = 0\n",
        "true_neg = 0\n",
        "with torch.no_grad():\n",
        "    for i, (inputs, labels) in enumerate(test_loader):\n",
        "      inputs, labels = inputs.to(device), labels.to(device)\n",
        "      outputs = model(inputs)\n",
        "      loss = criterion(outputs, labels)\n",
        "      test_loss += loss.item()\n",
        "      _, predicted = torch.max(outputs, 1)\n",
        "      test_acc += (predicted == labels).sum().item()\n",
        "      pos += (labels == 1).sum().item()\n",
        "      neg += (labels == 0).sum().item()\n",
        "      true_pos += (labels * predicted == 1).sum().item()\n",
        "      true_neg += (torch.logical_or(labels, predicted) == 0).sum().item()\n",
        "\n",
        "    true_pos_rate = true_pos / pos\n",
        "    false_pos_rate = (neg - true_neg)/neg\n",
        "    test_loss /= len(test_loader)\n",
        "    test_acc /= len(test_data)\n",
        "print(\"true pos rate = {:.3f}\".format(true_pos_rate))\n",
        "print(\"false pos rate = {:.3f}\".format(false_pos_rate))\n",
        "print(\"true pos = {:.3f}\".format(true_pos))\n",
        "print(\"false pos = {:.3f}\".format(true_neg))\n",
        "\n",
        "print(\"Test Loss = {:.3f}, Test Accuracy = {:.3f}\".format(test_loss, test_acc))\n",
        "\n",
        "print(f\"F1 Score (Threshold {thresholds[4]:.1f}): {f1_scores[4]:.3f}\")\n"
      ],
      "metadata": {
        "colab": {
          "base_uri": "https://localhost:8080/"
        },
        "id": "VStMA5dYMLDF",
        "outputId": "0ddc82f4-52af-4127-b350-8f9c834552ed"
      },
      "execution_count": null,
      "outputs": [
        {
          "output_type": "stream",
          "name": "stdout",
          "text": [
            "true pos rate = 0.957\n",
            "false pos rate = 0.013\n",
            "true pos = 22.000\n",
            "false pos = 75.000\n",
            "Test Loss = 0.096, Test Accuracy = 0.980\n",
            "F1 Score (Threshold 0.5): 0.979\n"
          ]
        }
      ]
    },
    {
      "cell_type": "code",
      "source": [
        "for i, (inputs, labels) in enumerate(test_loader):\n",
        "    if i == 0:\n",
        "        for j in range(len(inputs)):\n",
        "            image_idx = test_loader.dataset.indices[j]\n",
        "            image_name = test_loader.dataset.dataset.samples[image_idx][0]\n",
        "            print(\"Image: {} \\nLabels: {}\\n\".format(image_name, labels[j]))\n"
      ],
      "metadata": {
        "colab": {
          "base_uri": "https://localhost:8080/"
        },
        "id": "Ng1TY96qgP_n",
        "outputId": "767616ae-9eb7-4acc-b0c5-7abc45a64916"
      },
      "execution_count": null,
      "outputs": [
        {
          "output_type": "stream",
          "name": "stdout",
          "text": [
            "Image: fire_dataset/fire_images/fire.723.png \n",
            "Labels: 0\n",
            "\n",
            "Image: fire_dataset/non_fire_images/non_fire.54.png \n",
            "Labels: 1\n",
            "\n",
            "Image: fire_dataset/fire_images/fire.554.png \n",
            "Labels: 0\n",
            "\n",
            "Image: fire_dataset/non_fire_images/non_fire.177.png \n",
            "Labels: 1\n",
            "\n",
            "Image: fire_dataset/fire_images/fire.461.png \n",
            "Labels: 0\n",
            "\n",
            "Image: fire_dataset/non_fire_images/non_fire.197.png \n",
            "Labels: 1\n",
            "\n",
            "Image: fire_dataset/fire_images/fire.465.png \n",
            "Labels: 0\n",
            "\n",
            "Image: fire_dataset/non_fire_images/non_fire.224.png \n",
            "Labels: 1\n",
            "\n",
            "Image: fire_dataset/fire_images/fire.298.png \n",
            "Labels: 0\n",
            "\n",
            "Image: fire_dataset/fire_images/fire.454.png \n",
            "Labels: 0\n",
            "\n",
            "Image: fire_dataset/fire_images/fire.218.png \n",
            "Labels: 0\n",
            "\n",
            "Image: fire_dataset/fire_images/fire.725.png \n",
            "Labels: 0\n",
            "\n",
            "Image: fire_dataset/fire_images/fire.528.png \n",
            "Labels: 0\n",
            "\n",
            "Image: fire_dataset/fire_images/fire.266.png \n",
            "Labels: 0\n",
            "\n",
            "Image: fire_dataset/fire_images/fire.246.png \n",
            "Labels: 0\n",
            "\n",
            "Image: fire_dataset/fire_images/fire.23.png \n",
            "Labels: 0\n",
            "\n",
            "Image: fire_dataset/fire_images/fire.269.png \n",
            "Labels: 0\n",
            "\n",
            "Image: fire_dataset/fire_images/fire.349.png \n",
            "Labels: 0\n",
            "\n",
            "Image: fire_dataset/fire_images/fire.393.png \n",
            "Labels: 0\n",
            "\n",
            "Image: fire_dataset/fire_images/fire.25.png \n",
            "Labels: 0\n",
            "\n",
            "Image: fire_dataset/non_fire_images/non_fire.178.png \n",
            "Labels: 1\n",
            "\n",
            "Image: fire_dataset/non_fire_images/non_fire.160.png \n",
            "Labels: 1\n",
            "\n",
            "Image: fire_dataset/fire_images/fire.693.png \n",
            "Labels: 0\n",
            "\n",
            "Image: fire_dataset/non_fire_images/non_fire.141.png \n",
            "Labels: 1\n",
            "\n",
            "Image: fire_dataset/fire_images/fire.1.png \n",
            "Labels: 0\n",
            "\n",
            "Image: fire_dataset/non_fire_images/non_fire.213.png \n",
            "Labels: 1\n",
            "\n",
            "Image: fire_dataset/fire_images/fire.569.png \n",
            "Labels: 0\n",
            "\n",
            "Image: fire_dataset/non_fire_images/non_fire.157.png \n",
            "Labels: 1\n",
            "\n",
            "Image: fire_dataset/non_fire_images/non_fire.216.png \n",
            "Labels: 1\n",
            "\n",
            "Image: fire_dataset/fire_images/fire.739.png \n",
            "Labels: 0\n",
            "\n",
            "Image: fire_dataset/fire_images/fire.76.png \n",
            "Labels: 0\n",
            "\n",
            "Image: fire_dataset/fire_images/fire.699.png \n",
            "Labels: 0\n",
            "\n"
          ]
        }
      ]
    },
    {
      "cell_type": "code",
      "source": [
        "from PIL import Image\n",
        "from torchvision.transforms.functional import resize, to_tensor, normalize\n",
        "\n",
        "def predict_image(image_path, model, threshold=0.3):\n",
        "  image = Image.open(image_path)\n",
        "  image = val_transforms(image)\n",
        "  inputs = torch.unsqueeze(image, 0).to(device)\n",
        "  outputs = model(inputs)\n",
        "  _, predicted = torch.max(outputs, 1)\n",
        "  probability = F.softmax(outputs, dim=1)[0][predicted]\n",
        "  print(predicted)\n",
        "  print(F.softmax(outputs, dim=1))\n",
        "  print(outputs)\n",
        "\n",
        "  if predicted == 1 and probability > threshold:\n",
        "    print(\"Fire detected with probability {:.3f}\".format(probability))\n",
        "  else:\n",
        "    print(\"No fire detected\")"
      ],
      "metadata": {
        "id": "bzLp0iEQOB5f"
      },
      "execution_count": null,
      "outputs": []
    },
    {
      "cell_type": "code",
      "source": [
        "# os.chdir(\"/content/gdrive/MyDrive/kaggle/fire_dataset/fire_images\")\n"
      ],
      "metadata": {
        "id": "wPlxsZuAQRVx"
      },
      "execution_count": null,
      "outputs": []
    },
    {
      "cell_type": "code",
      "source": [
        "cwd = os.getcwd()\n",
        "print(cwd)"
      ],
      "metadata": {
        "colab": {
          "base_uri": "https://localhost:8080/"
        },
        "id": "nY2OfTxtSiDU",
        "outputId": "73bb45c8-33d7-435f-c05e-5389ca1af4b6"
      },
      "execution_count": null,
      "outputs": [
        {
          "output_type": "stream",
          "name": "stdout",
          "text": [
            "/content/gdrive/MyDrive/fire_detector\n"
          ]
        }
      ]
    },
    {
      "cell_type": "code",
      "source": [
        "# get the current working directory\n",
        "current_dir = os.getcwd()\n",
        "\n",
        "# specify the relative path to the image file\n",
        "image_path = os.path.join(current_dir, \"fire_dataset/fire_images/fire.210.png\")\n",
        "\n",
        "\n",
        "predict_image(image_path, model)"
      ],
      "metadata": {
        "id": "qKw6pPzOSKmY"
      },
      "execution_count": null,
      "outputs": []
    }
  ]
}